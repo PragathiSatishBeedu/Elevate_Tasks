{
 "cells": [
  {
   "cell_type": "code",
   "id": "630df40e",
   "metadata": {
    "jupyter": {
     "is_executing": true
    }
   },
   "source": [
    "# Import necessary libraries\n",
    "import pandas as pd\n",
    "import seaborn as sns\n",
    "from statsmodels.tsa.arima.model import ARIMA\n",
    "import matplotlib.pyplot as plt\n",
    "from sklearn.metrics import mean_absolute_error, mean_squared_error\n",
    "import numpy as np\n",
    "from sklearn.ensemble import RandomForestRegressor\n",
    "from sklearn.model_selection import train_test_split\n",
    "from sklearn.preprocessing import LabelEncoder"
   ],
   "outputs": [],
   "execution_count": null
  },
  {
   "cell_type": "code",
   "execution_count": null,
   "id": "0076a718",
   "metadata": {},
   "outputs": [],
   "source": [
    "## Load the dataset - sample_invoices.csv\n",
    "file_path = 'C:/Users/praga/OneDrive - The University of Texas at Dallas/ELEVATE/Project/sample_invoices.csv' \n",
    "data = pd.read_csv(file_path)\n",
    "\n",
    "# Display the data types of the columns\n",
    "data_types = data.dtypes\n",
    "print(data_types)"
   ]
  },
  {
   "metadata": {},
   "cell_type": "code",
   "outputs": [],
   "execution_count": null,
   "source": [
    "# Convert 'Invoice Date' to datetime format\n",
    "data['Invoice Date'] = pd.to_datetime(data['Invoice Date'])\n",
    "\n",
    "# Extract the year from 'Invoice Date' to create a time series \n",
    "data['Year'] = data['Invoice Date'].dt.year\n",
    "\n",
    "# Group by Law Firm, Timekeeper Classification, and Year to get average hourly rate for each combination\n",
    "grouped_data = data.groupby(['Law Firm Name', 'Timekeeper Classification', 'Year'])['Hourly Rate'].mean().reset_index()\n",
    "\n",
    "# Create a time series for a specific law firm and classification\n",
    "law_firm = 'Bailey Inc'\n",
    "classification = 'Associate'\n",
    "\n",
    "# Filter data for the selected law firm and timekeeper classification\n",
    "time_series_data = grouped_data[(grouped_data['Law Firm Name'] == law_firm) & \n",
    "                                (grouped_data['Timekeeper Classification'] == classification)]\n",
    "\n",
    "# Set 'Year' as index for the time series\n",
    "time_series_data.set_index('Year', inplace=True)\n",
    "\n",
    "# Build ARIMA Model (p=1, d=1, q=1 are common starting parameters)\n",
    "model = ARIMA(time_series_data['Hourly Rate'], order=(1,1,1))\n",
    "model_fit = model.fit()\n",
    "\n",
    "# Forecast future hourly rates(5 years)\n",
    "forecast = model_fit.forecast(steps=5)\n",
    "\n",
    "# Plot the historical data and forecasted data\n",
    "plt.figure(figsize=(10,6))\n",
    "plt.plot(time_series_data['Hourly Rate'], label='Historical Hourly Rate')\n",
    "plt.plot(range(time_series_data.index[-1]+1, time_series_data.index[-1]+6), forecast, label='Forecasted Hourly Rate', color='orange')\n",
    "plt.xlabel('Year')\n",
    "plt.ylabel('Average Hourly Rate')\n",
    "plt.title(f'Hourly Rate Forecast for {law_firm} - {classification}')\n",
    "plt.legend()\n",
    "plt.show()\n",
    "\n",
    "# Display forecasted values\n",
    "print(forecast)"
   ],
   "id": "19f2e825d0d2c116"
  }
 ],
 "metadata": {
  "kernelspec": {
   "display_name": "Python 3 (ipykernel)",
   "language": "python",
   "name": "python3"
  },
  "language_info": {
   "codemirror_mode": {
    "name": "ipython",
    "version": 3
   },
   "file_extension": ".py",
   "mimetype": "text/x-python",
   "name": "python",
   "nbconvert_exporter": "python",
   "pygments_lexer": "ipython3",
   "version": "3.9.13"
  }
 },
 "nbformat": 4,
 "nbformat_minor": 5
}
